{
 "cells": [
  {
   "cell_type": "markdown",
   "id": "af7f4868",
   "metadata": {},
   "source": [
    " "
   ]
  },
  {
   "cell_type": "markdown",
   "id": "1e118508",
   "metadata": {
    "id": "1WD1hC5MTRMS"
   },
   "source": [
    "# Data Structuring with Python · Unicorns"
   ]
  },
  {
   "cell_type": "markdown",
   "id": "8d69b3e9",
   "metadata": {},
   "source": [
    "Completed by [Anton Starshev](http://linkedin.com/in/starshev) on 22/05/2024"
   ]
  },
  {
   "cell_type": "markdown",
   "id": "57d97e4d",
   "metadata": {
    "id": "ee31943b-274e-4c28-bce6-155cb6f4c334"
   },
   "source": [
    "### Context\n",
    "\n",
    "I am a member of an analytics team providing insights to an investment firm. Our goal is to identify potential unicorn companies — those valued at over one billion dollars — for investment opportunities."
   ]
  },
  {
   "cell_type": "markdown",
   "id": "80f6cc75",
   "metadata": {
    "id": "4bb9630e-b940-4835-a389-d39def1fa848"
   },
   "source": [
    "### Data"
   ]
  },
  {
   "cell_type": "markdown",
   "id": "229aee61",
   "metadata": {},
   "source": [
    "The dataset provided is in the form of a csv file named `Unicorn_Companies.csv` and contains a subset of data on unicorn companies."
   ]
  },
  {
   "cell_type": "markdown",
   "id": "1908c230",
   "metadata": {},
   "source": [
    "### Execution"
   ]
  },
  {
   "cell_type": "markdown",
   "id": "0eb6e562",
   "metadata": {
    "id": "bc180686-4ae2-47ea-a292-3588ac60a820"
   },
   "source": [
    "Imported the relevant Python libraries and modules."
   ]
  },
  {
   "cell_type": "code",
   "execution_count": 7,
   "id": "2b03760f",
   "metadata": {
    "id": "8e7f1f2c-bbcc-4f3c-b927-b090ee8334c4"
   },
   "outputs": [],
   "source": [
    "import pandas as pd\n",
    "import numpy as np\n",
    "import seaborn as sns\n",
    "import matplotlib.pyplot as plt"
   ]
  },
  {
   "cell_type": "markdown",
   "id": "63750e10",
   "metadata": {
    "id": "7d29c6bd-f194-46bb-b794-56dc20130473"
   },
   "source": [
    "Loaded the dataset into a DataFrame."
   ]
  },
  {
   "cell_type": "code",
   "execution_count": 8,
   "id": "c137beca",
   "metadata": {
    "id": "3bd40d44-080f-4e49-b0c2-160dedc3c4df"
   },
   "outputs": [],
   "source": [
    "companies = pd.read_csv('Unicorn_Companies.csv')"
   ]
  },
  {
   "cell_type": "markdown",
   "id": "55ec54bd",
   "metadata": {
    "id": "pEeiG2M76OLH"
   },
   "source": [
    "Displayed the first 10 rows of the data."
   ]
  },
  {
   "cell_type": "code",
   "execution_count": 9,
   "id": "12ae8d2f",
   "metadata": {
    "id": "ad5210a5-7a64-4991-b004-de818cfaf506"
   },
   "outputs": [
    {
     "data": {
      "text/html": [
       "<div>\n",
       "<style scoped>\n",
       "    .dataframe tbody tr th:only-of-type {\n",
       "        vertical-align: middle;\n",
       "    }\n",
       "\n",
       "    .dataframe tbody tr th {\n",
       "        vertical-align: top;\n",
       "    }\n",
       "\n",
       "    .dataframe thead th {\n",
       "        text-align: right;\n",
       "    }\n",
       "</style>\n",
       "<table border=\"1\" class=\"dataframe\">\n",
       "  <thead>\n",
       "    <tr style=\"text-align: right;\">\n",
       "      <th></th>\n",
       "      <th>Company</th>\n",
       "      <th>Valuation</th>\n",
       "      <th>Date Joined</th>\n",
       "      <th>Industry</th>\n",
       "      <th>City</th>\n",
       "      <th>Country/Region</th>\n",
       "      <th>Continent</th>\n",
       "      <th>Year Founded</th>\n",
       "      <th>Funding</th>\n",
       "      <th>Select Investors</th>\n",
       "    </tr>\n",
       "  </thead>\n",
       "  <tbody>\n",
       "    <tr>\n",
       "      <th>0</th>\n",
       "      <td>Bytedance</td>\n",
       "      <td>$180B</td>\n",
       "      <td>4/7/17</td>\n",
       "      <td>Artificial intelligence</td>\n",
       "      <td>Beijing</td>\n",
       "      <td>China</td>\n",
       "      <td>Asia</td>\n",
       "      <td>2012</td>\n",
       "      <td>$8B</td>\n",
       "      <td>Sequoia Capital China, SIG Asia Investments, S...</td>\n",
       "    </tr>\n",
       "    <tr>\n",
       "      <th>1</th>\n",
       "      <td>SpaceX</td>\n",
       "      <td>$100B</td>\n",
       "      <td>12/1/12</td>\n",
       "      <td>Other</td>\n",
       "      <td>Hawthorne</td>\n",
       "      <td>United States</td>\n",
       "      <td>North America</td>\n",
       "      <td>2002</td>\n",
       "      <td>$7B</td>\n",
       "      <td>Founders Fund, Draper Fisher Jurvetson, Rothen...</td>\n",
       "    </tr>\n",
       "    <tr>\n",
       "      <th>2</th>\n",
       "      <td>SHEIN</td>\n",
       "      <td>$100B</td>\n",
       "      <td>7/3/18</td>\n",
       "      <td>E-commerce &amp; direct-to-consumer</td>\n",
       "      <td>Shenzhen</td>\n",
       "      <td>China</td>\n",
       "      <td>Asia</td>\n",
       "      <td>2008</td>\n",
       "      <td>$2B</td>\n",
       "      <td>Tiger Global Management, Sequoia Capital China...</td>\n",
       "    </tr>\n",
       "    <tr>\n",
       "      <th>3</th>\n",
       "      <td>Stripe</td>\n",
       "      <td>$95B</td>\n",
       "      <td>1/23/14</td>\n",
       "      <td>Fintech</td>\n",
       "      <td>San Francisco</td>\n",
       "      <td>United States</td>\n",
       "      <td>North America</td>\n",
       "      <td>2010</td>\n",
       "      <td>$2B</td>\n",
       "      <td>Khosla Ventures, LowercaseCapital, capitalG</td>\n",
       "    </tr>\n",
       "    <tr>\n",
       "      <th>4</th>\n",
       "      <td>Klarna</td>\n",
       "      <td>$46B</td>\n",
       "      <td>12/12/11</td>\n",
       "      <td>Fintech</td>\n",
       "      <td>Stockholm</td>\n",
       "      <td>Sweden</td>\n",
       "      <td>Europe</td>\n",
       "      <td>2005</td>\n",
       "      <td>$4B</td>\n",
       "      <td>Institutional Venture Partners, Sequoia Capita...</td>\n",
       "    </tr>\n",
       "    <tr>\n",
       "      <th>5</th>\n",
       "      <td>Canva</td>\n",
       "      <td>$40B</td>\n",
       "      <td>1/8/18</td>\n",
       "      <td>Internet software &amp; services</td>\n",
       "      <td>Surry Hills</td>\n",
       "      <td>Australia</td>\n",
       "      <td>Oceania</td>\n",
       "      <td>2012</td>\n",
       "      <td>$572M</td>\n",
       "      <td>Sequoia Capital China, Blackbird Ventures, Mat...</td>\n",
       "    </tr>\n",
       "    <tr>\n",
       "      <th>6</th>\n",
       "      <td>Checkout.com</td>\n",
       "      <td>$40B</td>\n",
       "      <td>5/2/19</td>\n",
       "      <td>Fintech</td>\n",
       "      <td>London</td>\n",
       "      <td>United Kingdom</td>\n",
       "      <td>Europe</td>\n",
       "      <td>2012</td>\n",
       "      <td>$2B</td>\n",
       "      <td>Tiger Global Management, Insight Partners, DST...</td>\n",
       "    </tr>\n",
       "    <tr>\n",
       "      <th>7</th>\n",
       "      <td>Instacart</td>\n",
       "      <td>$39B</td>\n",
       "      <td>12/30/14</td>\n",
       "      <td>Supply chain, logistics, &amp; delivery</td>\n",
       "      <td>San Francisco</td>\n",
       "      <td>United States</td>\n",
       "      <td>North America</td>\n",
       "      <td>2012</td>\n",
       "      <td>$3B</td>\n",
       "      <td>Khosla Ventures, Kleiner Perkins Caufield &amp; By...</td>\n",
       "    </tr>\n",
       "    <tr>\n",
       "      <th>8</th>\n",
       "      <td>JUUL Labs</td>\n",
       "      <td>$38B</td>\n",
       "      <td>12/20/17</td>\n",
       "      <td>Consumer &amp; retail</td>\n",
       "      <td>San Francisco</td>\n",
       "      <td>United States</td>\n",
       "      <td>North America</td>\n",
       "      <td>2015</td>\n",
       "      <td>$14B</td>\n",
       "      <td>Tiger Global Management</td>\n",
       "    </tr>\n",
       "    <tr>\n",
       "      <th>9</th>\n",
       "      <td>Databricks</td>\n",
       "      <td>$38B</td>\n",
       "      <td>2/5/19</td>\n",
       "      <td>Data management &amp; analytics</td>\n",
       "      <td>San Francisco</td>\n",
       "      <td>United States</td>\n",
       "      <td>North America</td>\n",
       "      <td>2013</td>\n",
       "      <td>$3B</td>\n",
       "      <td>Andreessen Horowitz, New Enterprise Associates...</td>\n",
       "    </tr>\n",
       "  </tbody>\n",
       "</table>\n",
       "</div>"
      ],
      "text/plain": [
       "        Company Valuation Date Joined                             Industry  \\\n",
       "0     Bytedance     $180B      4/7/17              Artificial intelligence   \n",
       "1        SpaceX     $100B     12/1/12                                Other   \n",
       "2         SHEIN     $100B      7/3/18      E-commerce & direct-to-consumer   \n",
       "3        Stripe      $95B     1/23/14                              Fintech   \n",
       "4        Klarna      $46B    12/12/11                              Fintech   \n",
       "5         Canva      $40B      1/8/18         Internet software & services   \n",
       "6  Checkout.com      $40B      5/2/19                              Fintech   \n",
       "7     Instacart      $39B    12/30/14  Supply chain, logistics, & delivery   \n",
       "8     JUUL Labs      $38B    12/20/17                    Consumer & retail   \n",
       "9    Databricks      $38B      2/5/19          Data management & analytics   \n",
       "\n",
       "            City  Country/Region      Continent  Year Founded Funding  \\\n",
       "0        Beijing           China           Asia          2012     $8B   \n",
       "1      Hawthorne   United States  North America          2002     $7B   \n",
       "2       Shenzhen           China           Asia          2008     $2B   \n",
       "3  San Francisco   United States  North America          2010     $2B   \n",
       "4      Stockholm          Sweden         Europe          2005     $4B   \n",
       "5    Surry Hills       Australia        Oceania          2012   $572M   \n",
       "6         London  United Kingdom         Europe          2012     $2B   \n",
       "7  San Francisco   United States  North America          2012     $3B   \n",
       "8  San Francisco   United States  North America          2015    $14B   \n",
       "9  San Francisco   United States  North America          2013     $3B   \n",
       "\n",
       "                                    Select Investors  \n",
       "0  Sequoia Capital China, SIG Asia Investments, S...  \n",
       "1  Founders Fund, Draper Fisher Jurvetson, Rothen...  \n",
       "2  Tiger Global Management, Sequoia Capital China...  \n",
       "3        Khosla Ventures, LowercaseCapital, capitalG  \n",
       "4  Institutional Venture Partners, Sequoia Capita...  \n",
       "5  Sequoia Capital China, Blackbird Ventures, Mat...  \n",
       "6  Tiger Global Management, Insight Partners, DST...  \n",
       "7  Khosla Ventures, Kleiner Perkins Caufield & By...  \n",
       "8                            Tiger Global Management  \n",
       "9  Andreessen Horowitz, New Enterprise Associates...  "
      ]
     },
     "execution_count": 9,
     "metadata": {},
     "output_type": "execute_result"
    }
   ],
   "source": [
    "companies.head(10)"
   ]
  },
  {
   "cell_type": "markdown",
   "id": "a4b5292f",
   "metadata": {
    "id": "e31095a6-5526-42d3-b1c0-b77c1f8b3852"
   },
   "source": [
    "Identified the number of rows and columns."
   ]
  },
  {
   "cell_type": "code",
   "execution_count": 134,
   "id": "47345471",
   "metadata": {
    "id": "df3c71a1-2519-4c50-86c2-63902a534d27"
   },
   "outputs": [
    {
     "data": {
      "text/plain": [
       "(1074, 10)"
      ]
     },
     "execution_count": 134,
     "metadata": {},
     "output_type": "execute_result"
    }
   ],
   "source": [
    "companies.shape"
   ]
  },
  {
   "cell_type": "markdown",
   "id": "2af2b28a",
   "metadata": {
    "id": "H_ot-KEQ_YAH"
   },
   "source": [
    "Checked for duplicates in the data."
   ]
  },
  {
   "cell_type": "code",
   "execution_count": 135,
   "id": "7c0d0795",
   "metadata": {
    "id": "3eT0fgc__MY9"
   },
   "outputs": [
    {
     "data": {
      "text/plain": [
       "False    1074\n",
       "Name: count, dtype: int64"
      ]
     },
     "execution_count": 135,
     "metadata": {},
     "output_type": "execute_result"
    }
   ],
   "source": [
    "companies.duplicated().value_counts()"
   ]
  },
  {
   "cell_type": "markdown",
   "id": "0a067f81",
   "metadata": {
    "id": "fgD6IfeBsNW8"
   },
   "source": [
    "Displayed the data types of the columns."
   ]
  },
  {
   "cell_type": "code",
   "execution_count": 136,
   "id": "8169d763",
   "metadata": {
    "id": "PjO2hGK2r8vN"
   },
   "outputs": [
    {
     "data": {
      "text/plain": [
       "Company             object\n",
       "Valuation           object\n",
       "Date Joined         object\n",
       "Industry            object\n",
       "City                object\n",
       "Country/Region      object\n",
       "Continent           object\n",
       "Year Founded         int64\n",
       "Funding             object\n",
       "Select Investors    object\n",
       "dtype: object"
      ]
     },
     "execution_count": 136,
     "metadata": {},
     "output_type": "execute_result"
    }
   ],
   "source": [
    "companies.dtypes"
   ]
  },
  {
   "cell_type": "markdown",
   "id": "4b213bb7",
   "metadata": {
    "id": "NmHY4cWIz2n5"
   },
   "source": [
    "Converted the \"Date Joined\" column to datetime64 format in order to split each value into year, month and date components, allowing to gain insights later about when a company obtained unicorn status with respect to each component. Displayed the data types of the columns to confirm that the update actually took place."
   ]
  },
  {
   "cell_type": "code",
   "execution_count": 11,
   "id": "c4269391",
   "metadata": {},
   "outputs": [
    {
     "data": {
      "text/plain": [
       "Company                     object\n",
       "Valuation                   object\n",
       "Date Joined         datetime64[ns]\n",
       "Industry                    object\n",
       "City                        object\n",
       "Country/Region              object\n",
       "Continent                   object\n",
       "Year Founded                 int64\n",
       "Funding                     object\n",
       "Select Investors            object\n",
       "dtype: object"
      ]
     },
     "execution_count": 11,
     "metadata": {},
     "output_type": "execute_result"
    }
   ],
   "source": [
    "companies['Date Joined'] = pd.to_datetime(companies['Date Joined'])\n",
    "companies.dtypes"
   ]
  },
  {
   "cell_type": "markdown",
   "id": "4ce4a2f1",
   "metadata": {},
   "source": [
    "Sorted the data to observe when the companies were found and displayed the first 10 rows of the resulting DataFrame.\n"
   ]
  },
  {
   "cell_type": "code",
   "execution_count": 12,
   "id": "b5391aaf",
   "metadata": {},
   "outputs": [
    {
     "data": {
      "text/html": [
       "<div>\n",
       "<style scoped>\n",
       "    .dataframe tbody tr th:only-of-type {\n",
       "        vertical-align: middle;\n",
       "    }\n",
       "\n",
       "    .dataframe tbody tr th {\n",
       "        vertical-align: top;\n",
       "    }\n",
       "\n",
       "    .dataframe thead th {\n",
       "        text-align: right;\n",
       "    }\n",
       "</style>\n",
       "<table border=\"1\" class=\"dataframe\">\n",
       "  <thead>\n",
       "    <tr style=\"text-align: right;\">\n",
       "      <th></th>\n",
       "      <th>Company</th>\n",
       "      <th>Valuation</th>\n",
       "      <th>Date Joined</th>\n",
       "      <th>Industry</th>\n",
       "      <th>City</th>\n",
       "      <th>Country/Region</th>\n",
       "      <th>Continent</th>\n",
       "      <th>Year Founded</th>\n",
       "      <th>Funding</th>\n",
       "      <th>Select Investors</th>\n",
       "    </tr>\n",
       "  </thead>\n",
       "  <tbody>\n",
       "    <tr>\n",
       "      <th>189</th>\n",
       "      <td>Otto Bock HealthCare</td>\n",
       "      <td>$4B</td>\n",
       "      <td>2017-06-24</td>\n",
       "      <td>Health</td>\n",
       "      <td>Duderstadt</td>\n",
       "      <td>Germany</td>\n",
       "      <td>Europe</td>\n",
       "      <td>1919</td>\n",
       "      <td>$0M</td>\n",
       "      <td>EQT Partners</td>\n",
       "    </tr>\n",
       "    <tr>\n",
       "      <th>373</th>\n",
       "      <td>Promasidor Holdings</td>\n",
       "      <td>$2B</td>\n",
       "      <td>2016-11-08</td>\n",
       "      <td>Consumer &amp; retail</td>\n",
       "      <td>Bryanston</td>\n",
       "      <td>South Africa</td>\n",
       "      <td>Asia</td>\n",
       "      <td>1979</td>\n",
       "      <td>$556M</td>\n",
       "      <td>IFC, Ajinomoto</td>\n",
       "    </tr>\n",
       "    <tr>\n",
       "      <th>699</th>\n",
       "      <td>Five Star Business Finance</td>\n",
       "      <td>$1B</td>\n",
       "      <td>2021-03-26</td>\n",
       "      <td>Other</td>\n",
       "      <td>Chennai</td>\n",
       "      <td>India</td>\n",
       "      <td>Asia</td>\n",
       "      <td>1984</td>\n",
       "      <td>$456M</td>\n",
       "      <td>Sequoia Capital India, Tiger Global Management...</td>\n",
       "    </tr>\n",
       "    <tr>\n",
       "      <th>840</th>\n",
       "      <td>Radius Payment Solutions</td>\n",
       "      <td>$1B</td>\n",
       "      <td>2017-11-27</td>\n",
       "      <td>Fintech</td>\n",
       "      <td>Crewe</td>\n",
       "      <td>United Kingdom</td>\n",
       "      <td>Europe</td>\n",
       "      <td>1990</td>\n",
       "      <td>$200M</td>\n",
       "      <td>Inflexion Private Equity</td>\n",
       "    </tr>\n",
       "    <tr>\n",
       "      <th>11</th>\n",
       "      <td>Epic Games</td>\n",
       "      <td>$32B</td>\n",
       "      <td>2018-10-26</td>\n",
       "      <td>Other</td>\n",
       "      <td>Cary</td>\n",
       "      <td>United States</td>\n",
       "      <td>North America</td>\n",
       "      <td>1991</td>\n",
       "      <td>$7B</td>\n",
       "      <td>Tencent Holdings, KKR, Smash Ventures</td>\n",
       "    </tr>\n",
       "    <tr>\n",
       "      <th>377</th>\n",
       "      <td>BGL Group</td>\n",
       "      <td>$2B</td>\n",
       "      <td>2017-11-24</td>\n",
       "      <td>Fintech</td>\n",
       "      <td>Peterborough</td>\n",
       "      <td>United Kingdom</td>\n",
       "      <td>Europe</td>\n",
       "      <td>1992</td>\n",
       "      <td>$696M</td>\n",
       "      <td>CPP Investment Board</td>\n",
       "    </tr>\n",
       "    <tr>\n",
       "      <th>1043</th>\n",
       "      <td>Thirty Madison</td>\n",
       "      <td>$1B</td>\n",
       "      <td>2021-06-02</td>\n",
       "      <td>Health</td>\n",
       "      <td>New York</td>\n",
       "      <td>United States</td>\n",
       "      <td>North America</td>\n",
       "      <td>1993</td>\n",
       "      <td>$210M</td>\n",
       "      <td>Northzone Ventures, Maveron, Johnson &amp; Johnson...</td>\n",
       "    </tr>\n",
       "    <tr>\n",
       "      <th>129</th>\n",
       "      <td>Howden Group Holdings</td>\n",
       "      <td>$5B</td>\n",
       "      <td>2020-09-29</td>\n",
       "      <td>Other</td>\n",
       "      <td>London</td>\n",
       "      <td>United Kingdom</td>\n",
       "      <td>Europe</td>\n",
       "      <td>1994</td>\n",
       "      <td>$187M</td>\n",
       "      <td>General Atlantic, 3i Group, Huagai Capital</td>\n",
       "    </tr>\n",
       "    <tr>\n",
       "      <th>118</th>\n",
       "      <td>Vice Media</td>\n",
       "      <td>$6B</td>\n",
       "      <td>2011-04-02</td>\n",
       "      <td>Internet software &amp; services</td>\n",
       "      <td>Brooklyn</td>\n",
       "      <td>United States</td>\n",
       "      <td>North America</td>\n",
       "      <td>1994</td>\n",
       "      <td>$1B</td>\n",
       "      <td>Technology Crossover Ventures, A&amp;E Television ...</td>\n",
       "    </tr>\n",
       "    <tr>\n",
       "      <th>360</th>\n",
       "      <td>Carzone</td>\n",
       "      <td>$2B</td>\n",
       "      <td>2019-03-01</td>\n",
       "      <td>E-commerce &amp; direct-to-consumer</td>\n",
       "      <td>Jiangsu</td>\n",
       "      <td>China</td>\n",
       "      <td>Asia</td>\n",
       "      <td>1995</td>\n",
       "      <td>$946M</td>\n",
       "      <td>Alibaba Group,Co-Stone Venture Capital, Buhuo ...</td>\n",
       "    </tr>\n",
       "  </tbody>\n",
       "</table>\n",
       "</div>"
      ],
      "text/plain": [
       "                         Company Valuation Date Joined  \\\n",
       "189         Otto Bock HealthCare       $4B  2017-06-24   \n",
       "373          Promasidor Holdings       $2B  2016-11-08   \n",
       "699   Five Star Business Finance       $1B  2021-03-26   \n",
       "840     Radius Payment Solutions       $1B  2017-11-27   \n",
       "11                    Epic Games      $32B  2018-10-26   \n",
       "377                    BGL Group       $2B  2017-11-24   \n",
       "1043              Thirty Madison       $1B  2021-06-02   \n",
       "129        Howden Group Holdings       $5B  2020-09-29   \n",
       "118                   Vice Media       $6B  2011-04-02   \n",
       "360                      Carzone       $2B  2019-03-01   \n",
       "\n",
       "                             Industry          City  Country/Region  \\\n",
       "189                            Health    Duderstadt         Germany   \n",
       "373                 Consumer & retail     Bryanston    South Africa   \n",
       "699                             Other       Chennai           India   \n",
       "840                           Fintech         Crewe  United Kingdom   \n",
       "11                              Other          Cary   United States   \n",
       "377                           Fintech  Peterborough  United Kingdom   \n",
       "1043                           Health      New York   United States   \n",
       "129                             Other        London  United Kingdom   \n",
       "118      Internet software & services      Brooklyn   United States   \n",
       "360   E-commerce & direct-to-consumer       Jiangsu           China   \n",
       "\n",
       "          Continent  Year Founded Funding  \\\n",
       "189          Europe          1919     $0M   \n",
       "373            Asia          1979   $556M   \n",
       "699            Asia          1984   $456M   \n",
       "840          Europe          1990   $200M   \n",
       "11    North America          1991     $7B   \n",
       "377          Europe          1992   $696M   \n",
       "1043  North America          1993   $210M   \n",
       "129          Europe          1994   $187M   \n",
       "118   North America          1994     $1B   \n",
       "360            Asia          1995   $946M   \n",
       "\n",
       "                                       Select Investors  \n",
       "189                                        EQT Partners  \n",
       "373                                      IFC, Ajinomoto  \n",
       "699   Sequoia Capital India, Tiger Global Management...  \n",
       "840                            Inflexion Private Equity  \n",
       "11                Tencent Holdings, KKR, Smash Ventures  \n",
       "377                                CPP Investment Board  \n",
       "1043  Northzone Ventures, Maveron, Johnson & Johnson...  \n",
       "129          General Atlantic, 3i Group, Huagai Capital  \n",
       "118   Technology Crossover Ventures, A&E Television ...  \n",
       "360   Alibaba Group,Co-Stone Venture Capital, Buhuo ...  "
      ]
     },
     "execution_count": 12,
     "metadata": {},
     "output_type": "execute_result"
    }
   ],
   "source": [
    "companies.sort_values(by = 'Year Founded', ascending = True).head(10)"
   ]
  },
  {
   "cell_type": "markdown",
   "id": "71672c14",
   "metadata": {},
   "source": [
    "**EDA observations:** \n",
    "- There are 1074 rows and 10 columns in the dataset with no duplicates detected\n",
    "- According to this dataset, there are 1074 unicorn companies, as of March 2022\n",
    "- This dataset shows 10 aspects of each company\n",
    "- The data type of the 'Year Founded' column was converted from int64 to datetime64 for convenience, the rest of the columns have the dtype 'object'\n",
    "- Data was sorted by 'Year Founded' in ascending order"
   ]
  },
  {
   "cell_type": "markdown",
   "id": "835b45f5",
   "metadata": {
    "id": "95ICE9dXHWZY"
   },
   "source": [
    "### Task 1 · How many companies were founded each year?"
   ]
  },
  {
   "cell_type": "markdown",
   "id": "e76ee4f0",
   "metadata": {},
   "source": [
    "Displayed each unique year that occurs in the dataset along with the number of companies that were founded in each unique year."
   ]
  },
  {
   "cell_type": "code",
   "execution_count": 13,
   "id": "72c2498d",
   "metadata": {
    "id": "_ZzafpsJ_VQ_"
   },
   "outputs": [
    {
     "data": {
      "text/plain": [
       "Year Founded\n",
       "2015    155\n",
       "2016    110\n",
       "2014    109\n",
       "2012     95\n",
       "2013     87\n",
       "2011     82\n",
       "2017     74\n",
       "2018     61\n",
       "2019     45\n",
       "2010     40\n",
       "2009     34\n",
       "2008     27\n",
       "2020     25\n",
       "2007     24\n",
       "2006     15\n",
       "2005     14\n",
       "2000     11\n",
       "2021     11\n",
       "2001      9\n",
       "2004      8\n",
       "2003      8\n",
       "1999      8\n",
       "1998      5\n",
       "2002      4\n",
       "1995      2\n",
       "1994      2\n",
       "1979      1\n",
       "1997      1\n",
       "1996      1\n",
       "1993      1\n",
       "1992      1\n",
       "1991      1\n",
       "1990      1\n",
       "1984      1\n",
       "1919      1\n",
       "dtype: int64"
      ]
     },
     "execution_count": 13,
     "metadata": {},
     "output_type": "execute_result"
    }
   ],
   "source": [
    "years_grouped = companies.groupby('Year Founded').size().sort_values(ascending = False)\n",
    "\n",
    "years_grouped"
   ]
  },
  {
   "cell_type": "markdown",
   "id": "c90bacf1",
   "metadata": {},
   "source": [
    "Ploted a histogram of the \"Year Founded\" feature."
   ]
  },
  {
   "cell_type": "code",
   "execution_count": 146,
   "id": "f97b5bca",
   "metadata": {},
   "outputs": [
    {
     "data": {
      "text/plain": [
       "Text(0.5, 1.0, 'Year Founded histogram')"
      ]
     },
     "execution_count": 146,
     "metadata": {},
     "output_type": "execute_result"
    },
    {
     "data": {
      "image/png": "[encoded data removed]",
      "text/plain": [
       "<Figure size 1000x600 with 1 Axes>"
      ]
     },
     "metadata": {},
     "output_type": "display_data"
    }
   ],
   "source": [
    "plt.figure(figsize = (10, 6))\n",
    "sns.histplot(data = companies, x = 'Year Founded')\n",
    "plt.title('Year Founded histogram')"
   ]
  },
  {
   "cell_type": "markdown",
   "id": "22b07d46",
   "metadata": {},
   "source": [
    "**Observations:**\n",
    "- Year 2015 has the highest count of companies founded\n",
    "- The graphical representation of the frequency distribution shows a dramatic increase in the number of companies being founded between the years 2010 and 2020"
   ]
  },
  {
   "cell_type": "markdown",
   "id": "3499e997",
   "metadata": {},
   "source": [
    "### Task 2 · How many years taken to become a unicorn with respect to the month when joined the list?"
   ]
  },
  {
   "cell_type": "markdown",
   "id": "e9c83175",
   "metadata": {
    "id": "ae351a97-926e-40af-91e2-4bd12a5bf888",
    "tags": []
   },
   "source": [
    "Obtained the names of the months when companies gained unicorn status and used the result to create a \"Month Joined\" column."
   ]
  },
  {
   "cell_type": "code",
   "execution_count": 14,
   "id": "e780eb65",
   "metadata": {
    "id": "PFBo2wdQU6U1"
   },
   "outputs": [
    {
     "data": {
      "text/html": [
       "<div>\n",
       "<style scoped>\n",
       "    .dataframe tbody tr th:only-of-type {\n",
       "        vertical-align: middle;\n",
       "    }\n",
       "\n",
       "    .dataframe tbody tr th {\n",
       "        vertical-align: top;\n",
       "    }\n",
       "\n",
       "    .dataframe thead th {\n",
       "        text-align: right;\n",
       "    }\n",
       "</style>\n",
       "<table border=\"1\" class=\"dataframe\">\n",
       "  <thead>\n",
       "    <tr style=\"text-align: right;\">\n",
       "      <th></th>\n",
       "      <th>Company</th>\n",
       "      <th>Valuation</th>\n",
       "      <th>Date Joined</th>\n",
       "      <th>Month Joined</th>\n",
       "      <th>Industry</th>\n",
       "      <th>City</th>\n",
       "      <th>Country/Region</th>\n",
       "      <th>Continent</th>\n",
       "      <th>Year Founded</th>\n",
       "      <th>Funding</th>\n",
       "      <th>Select Investors</th>\n",
       "    </tr>\n",
       "  </thead>\n",
       "  <tbody>\n",
       "    <tr>\n",
       "      <th>0</th>\n",
       "      <td>Bytedance</td>\n",
       "      <td>$180B</td>\n",
       "      <td>2017-04-07</td>\n",
       "      <td>April</td>\n",
       "      <td>Artificial intelligence</td>\n",
       "      <td>Beijing</td>\n",
       "      <td>China</td>\n",
       "      <td>Asia</td>\n",
       "      <td>2012</td>\n",
       "      <td>$8B</td>\n",
       "      <td>Sequoia Capital China, SIG Asia Investments, S...</td>\n",
       "    </tr>\n",
       "    <tr>\n",
       "      <th>1</th>\n",
       "      <td>SpaceX</td>\n",
       "      <td>$100B</td>\n",
       "      <td>2012-12-01</td>\n",
       "      <td>December</td>\n",
       "      <td>Other</td>\n",
       "      <td>Hawthorne</td>\n",
       "      <td>United States</td>\n",
       "      <td>North America</td>\n",
       "      <td>2002</td>\n",
       "      <td>$7B</td>\n",
       "      <td>Founders Fund, Draper Fisher Jurvetson, Rothen...</td>\n",
       "    </tr>\n",
       "    <tr>\n",
       "      <th>2</th>\n",
       "      <td>SHEIN</td>\n",
       "      <td>$100B</td>\n",
       "      <td>2018-07-03</td>\n",
       "      <td>July</td>\n",
       "      <td>E-commerce &amp; direct-to-consumer</td>\n",
       "      <td>Shenzhen</td>\n",
       "      <td>China</td>\n",
       "      <td>Asia</td>\n",
       "      <td>2008</td>\n",
       "      <td>$2B</td>\n",
       "      <td>Tiger Global Management, Sequoia Capital China...</td>\n",
       "    </tr>\n",
       "    <tr>\n",
       "      <th>3</th>\n",
       "      <td>Stripe</td>\n",
       "      <td>$95B</td>\n",
       "      <td>2014-01-23</td>\n",
       "      <td>January</td>\n",
       "      <td>Fintech</td>\n",
       "      <td>San Francisco</td>\n",
       "      <td>United States</td>\n",
       "      <td>North America</td>\n",
       "      <td>2010</td>\n",
       "      <td>$2B</td>\n",
       "      <td>Khosla Ventures, LowercaseCapital, capitalG</td>\n",
       "    </tr>\n",
       "    <tr>\n",
       "      <th>4</th>\n",
       "      <td>Klarna</td>\n",
       "      <td>$46B</td>\n",
       "      <td>2011-12-12</td>\n",
       "      <td>December</td>\n",
       "      <td>Fintech</td>\n",
       "      <td>Stockholm</td>\n",
       "      <td>Sweden</td>\n",
       "      <td>Europe</td>\n",
       "      <td>2005</td>\n",
       "      <td>$4B</td>\n",
       "      <td>Institutional Venture Partners, Sequoia Capita...</td>\n",
       "    </tr>\n",
       "  </tbody>\n",
       "</table>\n",
       "</div>"
      ],
      "text/plain": [
       "     Company Valuation Date Joined Month Joined  \\\n",
       "0  Bytedance     $180B  2017-04-07        April   \n",
       "1     SpaceX     $100B  2012-12-01     December   \n",
       "2      SHEIN     $100B  2018-07-03         July   \n",
       "3     Stripe      $95B  2014-01-23      January   \n",
       "4     Klarna      $46B  2011-12-12     December   \n",
       "\n",
       "                          Industry           City Country/Region  \\\n",
       "0          Artificial intelligence        Beijing          China   \n",
       "1                            Other      Hawthorne  United States   \n",
       "2  E-commerce & direct-to-consumer       Shenzhen          China   \n",
       "3                          Fintech  San Francisco  United States   \n",
       "4                          Fintech      Stockholm         Sweden   \n",
       "\n",
       "       Continent  Year Founded Funding  \\\n",
       "0           Asia          2012     $8B   \n",
       "1  North America          2002     $7B   \n",
       "2           Asia          2008     $2B   \n",
       "3  North America          2010     $2B   \n",
       "4         Europe          2005     $4B   \n",
       "\n",
       "                                    Select Investors  \n",
       "0  Sequoia Capital China, SIG Asia Investments, S...  \n",
       "1  Founders Fund, Draper Fisher Jurvetson, Rothen...  \n",
       "2  Tiger Global Management, Sequoia Capital China...  \n",
       "3        Khosla Ventures, LowercaseCapital, capitalG  \n",
       "4  Institutional Venture Partners, Sequoia Capita...  "
      ]
     },
     "execution_count": 14,
     "metadata": {},
     "output_type": "execute_result"
    }
   ],
   "source": [
    "companies.insert(loc = 3, column = 'Month Joined', \n",
    "                 value = companies['Date Joined'].dt.month_name())\n",
    "\n",
    "companies.head()"
   ]
  },
  {
   "cell_type": "markdown",
   "id": "033c5796",
   "metadata": {
    "id": "6xTyzHiM8_Yf",
    "tags": []
   },
   "source": [
    "Determined how many years it took for companies to reach unicorn status, and used the result to create a \"Years To Join\" column."
   ]
  },
  {
   "cell_type": "code",
   "execution_count": 15,
   "id": "e9891463",
   "metadata": {
    "id": "9zK8Q7-v-Bx1"
   },
   "outputs": [
    {
     "data": {
      "text/html": [
       "<div>\n",
       "<style scoped>\n",
       "    .dataframe tbody tr th:only-of-type {\n",
       "        vertical-align: middle;\n",
       "    }\n",
       "\n",
       "    .dataframe tbody tr th {\n",
       "        vertical-align: top;\n",
       "    }\n",
       "\n",
       "    .dataframe thead th {\n",
       "        text-align: right;\n",
       "    }\n",
       "</style>\n",
       "<table border=\"1\" class=\"dataframe\">\n",
       "  <thead>\n",
       "    <tr style=\"text-align: right;\">\n",
       "      <th></th>\n",
       "      <th>Company</th>\n",
       "      <th>Valuation</th>\n",
       "      <th>Date Joined</th>\n",
       "      <th>Month Joined</th>\n",
       "      <th>Years To Join</th>\n",
       "      <th>Industry</th>\n",
       "      <th>City</th>\n",
       "      <th>Country/Region</th>\n",
       "      <th>Continent</th>\n",
       "      <th>Year Founded</th>\n",
       "      <th>Funding</th>\n",
       "      <th>Select Investors</th>\n",
       "    </tr>\n",
       "  </thead>\n",
       "  <tbody>\n",
       "    <tr>\n",
       "      <th>0</th>\n",
       "      <td>Bytedance</td>\n",
       "      <td>$180B</td>\n",
       "      <td>2017-04-07</td>\n",
       "      <td>April</td>\n",
       "      <td>5</td>\n",
       "      <td>Artificial intelligence</td>\n",
       "      <td>Beijing</td>\n",
       "      <td>China</td>\n",
       "      <td>Asia</td>\n",
       "      <td>2012</td>\n",
       "      <td>$8B</td>\n",
       "      <td>Sequoia Capital China, SIG Asia Investments, S...</td>\n",
       "    </tr>\n",
       "    <tr>\n",
       "      <th>1</th>\n",
       "      <td>SpaceX</td>\n",
       "      <td>$100B</td>\n",
       "      <td>2012-12-01</td>\n",
       "      <td>December</td>\n",
       "      <td>10</td>\n",
       "      <td>Other</td>\n",
       "      <td>Hawthorne</td>\n",
       "      <td>United States</td>\n",
       "      <td>North America</td>\n",
       "      <td>2002</td>\n",
       "      <td>$7B</td>\n",
       "      <td>Founders Fund, Draper Fisher Jurvetson, Rothen...</td>\n",
       "    </tr>\n",
       "    <tr>\n",
       "      <th>2</th>\n",
       "      <td>SHEIN</td>\n",
       "      <td>$100B</td>\n",
       "      <td>2018-07-03</td>\n",
       "      <td>July</td>\n",
       "      <td>10</td>\n",
       "      <td>E-commerce &amp; direct-to-consumer</td>\n",
       "      <td>Shenzhen</td>\n",
       "      <td>China</td>\n",
       "      <td>Asia</td>\n",
       "      <td>2008</td>\n",
       "      <td>$2B</td>\n",
       "      <td>Tiger Global Management, Sequoia Capital China...</td>\n",
       "    </tr>\n",
       "    <tr>\n",
       "      <th>3</th>\n",
       "      <td>Stripe</td>\n",
       "      <td>$95B</td>\n",
       "      <td>2014-01-23</td>\n",
       "      <td>January</td>\n",
       "      <td>4</td>\n",
       "      <td>Fintech</td>\n",
       "      <td>San Francisco</td>\n",
       "      <td>United States</td>\n",
       "      <td>North America</td>\n",
       "      <td>2010</td>\n",
       "      <td>$2B</td>\n",
       "      <td>Khosla Ventures, LowercaseCapital, capitalG</td>\n",
       "    </tr>\n",
       "    <tr>\n",
       "      <th>4</th>\n",
       "      <td>Klarna</td>\n",
       "      <td>$46B</td>\n",
       "      <td>2011-12-12</td>\n",
       "      <td>December</td>\n",
       "      <td>6</td>\n",
       "      <td>Fintech</td>\n",
       "      <td>Stockholm</td>\n",
       "      <td>Sweden</td>\n",
       "      <td>Europe</td>\n",
       "      <td>2005</td>\n",
       "      <td>$4B</td>\n",
       "      <td>Institutional Venture Partners, Sequoia Capita...</td>\n",
       "    </tr>\n",
       "  </tbody>\n",
       "</table>\n",
       "</div>"
      ],
      "text/plain": [
       "     Company Valuation Date Joined Month Joined  Years To Join  \\\n",
       "0  Bytedance     $180B  2017-04-07        April              5   \n",
       "1     SpaceX     $100B  2012-12-01     December             10   \n",
       "2      SHEIN     $100B  2018-07-03         July             10   \n",
       "3     Stripe      $95B  2014-01-23      January              4   \n",
       "4     Klarna      $46B  2011-12-12     December              6   \n",
       "\n",
       "                          Industry           City Country/Region  \\\n",
       "0          Artificial intelligence        Beijing          China   \n",
       "1                            Other      Hawthorne  United States   \n",
       "2  E-commerce & direct-to-consumer       Shenzhen          China   \n",
       "3                          Fintech  San Francisco  United States   \n",
       "4                          Fintech      Stockholm         Sweden   \n",
       "\n",
       "       Continent  Year Founded Funding  \\\n",
       "0           Asia          2012     $8B   \n",
       "1  North America          2002     $7B   \n",
       "2           Asia          2008     $2B   \n",
       "3  North America          2010     $2B   \n",
       "4         Europe          2005     $4B   \n",
       "\n",
       "                                    Select Investors  \n",
       "0  Sequoia Capital China, SIG Asia Investments, S...  \n",
       "1  Founders Fund, Draper Fisher Jurvetson, Rothen...  \n",
       "2  Tiger Global Management, Sequoia Capital China...  \n",
       "3        Khosla Ventures, LowercaseCapital, capitalG  \n",
       "4  Institutional Venture Partners, Sequoia Capita...  "
      ]
     },
     "execution_count": 15,
     "metadata": {},
     "output_type": "execute_result"
    }
   ],
   "source": [
    "companies.insert(loc = 4, column = 'Years To Join', value = \n",
    "                 companies['Date Joined'].dt.year - companies['Year Founded'])\n",
    "\n",
    "companies.head()"
   ]
  },
  {
   "cell_type": "markdown",
   "id": "3aa28faf",
   "metadata": {},
   "source": [
    "Defined a list that contains months in chronological order, to use for future visualization."
   ]
  },
  {
   "cell_type": "code",
   "execution_count": 16,
   "id": "016d394e",
   "metadata": {},
   "outputs": [
    {
     "data": {
      "text/plain": [
       "['January',\n",
       " 'February',\n",
       " 'March',\n",
       " 'April',\n",
       " 'May',\n",
       " 'June',\n",
       " 'July',\n",
       " 'August',\n",
       " 'September',\n",
       " 'October',\n",
       " 'November',\n",
       " 'December']"
      ]
     },
     "execution_count": 16,
     "metadata": {},
     "output_type": "execute_result"
    }
   ],
   "source": [
    "month_order = ['January', 'February', 'March', 'April', 'May', 'June', 'July',\n",
    "               'August', 'September', 'October', 'November', 'December']\n",
    "month_order"
   ]
  },
  {
   "cell_type": "markdown",
   "id": "0d1546be",
   "metadata": {},
   "source": [
    "Created a box plot to visualize the distribution of how long it took companies to become unicorns, with respect to the month they joined. "
   ]
  },
  {
   "cell_type": "code",
   "execution_count": 151,
   "id": "8a605d11",
   "metadata": {},
   "outputs": [
    {
     "data": {
      "image/png": "[encoded data removed]",
      "text/plain": [
       "<Figure size 1000x600 with 1 Axes>"
      ]
     },
     "metadata": {},
     "output_type": "display_data"
    }
   ],
   "source": [
    "plt.figure(figsize = (10,6))\n",
    "sns.boxplot(x = companies['Month Joined'], y = companies['Years To Join'], \n",
    "            order = month_order, showfliers = False)\n",
    "\n",
    "plt.title('Years to become unicorn with respect to month joined')\n",
    "plt.xticks(rotation = 45, horizontalalignment = 'right')\n",
    "plt.show()"
   ]
  },
  {
   "cell_type": "markdown",
   "id": "8f265099",
   "metadata": {},
   "source": [
    "**Observations:** \n",
    "- In the preceding box plot, the median value for \"Years To Join\" is slightly different for each month, however always in the range from 5 to 7,5 years\n",
    "- The median \"Years To Join\" is lower for the months of September, October and December, which could possibly indicate that companies that reached unicorn status in early fall (or right before New Year) took less time to reach 1 billion dollar valuation\n",
    "- Overall the distribution of companies is relatively close (consistent) for each month"
   ]
  },
  {
   "cell_type": "markdown",
   "id": "f702f423",
   "metadata": {},
   "source": [
    "### Task 3 · Visualize the time it took companies to reach unicorn status"
   ]
  },
  {
   "cell_type": "markdown",
   "id": "6396f9bd",
   "metadata": {},
   "source": [
    "Created a bar plot to visualize the average number of years it took companies to reach unicorn status with respect to when they were founded."
   ]
  },
  {
   "cell_type": "code",
   "execution_count": 156,
   "id": "26c015e4",
   "metadata": {},
   "outputs": [
    {
     "data": {
      "image/png": "[encoded data removed]",
      "text/plain": [
       "<Figure size 1000x600 with 1 Axes>"
      ]
     },
     "metadata": {},
     "output_type": "display_data"
    }
   ],
   "source": [
    "plt.figure(figsize = (10, 6))\n",
    "sns.barplot(x = 'Year Founded', y = 'Years To Join', data = companies, \n",
    "            errorbar=('ci', False))\n",
    "\n",
    "plt.title('Years to join with respect to year founded')\n",
    "plt.xlabel('Year founded')\n",
    "plt.ylabel('Years to join unicorn status')\n",
    "plt.xticks(rotation = 45, horizontalalignment = 'right')\n",
    "plt.show()"
   ]
  },
  {
   "cell_type": "markdown",
   "id": "fc746335",
   "metadata": {},
   "source": [
    "**Observations:** \n",
    "\n",
    "It appears to be a strong trend wherein companies that were founded later take less and less time to reach unicorn status."
   ]
  },
  {
   "cell_type": "markdown",
   "id": "0ce3a032",
   "metadata": {},
   "source": [
    "### Task 4 · Zoom into the year 2020 and define the companies joining trend over time"
   ]
  },
  {
   "cell_type": "markdown",
   "id": "b1793f68",
   "metadata": {
    "id": "nx-WbHfLCdTd"
   },
   "source": [
    "To gain more insight on the year 2020, filtered the dataset by that year and saved the resulting subset into a new variable. "
   ]
  },
  {
   "cell_type": "code",
   "execution_count": 17,
   "id": "3b38ec26",
   "metadata": {
    "id": "5FnSS5fBEUY-"
   },
   "outputs": [
    {
     "data": {
      "text/html": [
       "<div>\n",
       "<style scoped>\n",
       "    .dataframe tbody tr th:only-of-type {\n",
       "        vertical-align: middle;\n",
       "    }\n",
       "\n",
       "    .dataframe tbody tr th {\n",
       "        vertical-align: top;\n",
       "    }\n",
       "\n",
       "    .dataframe thead th {\n",
       "        text-align: right;\n",
       "    }\n",
       "</style>\n",
       "<table border=\"1\" class=\"dataframe\">\n",
       "  <thead>\n",
       "    <tr style=\"text-align: right;\">\n",
       "      <th></th>\n",
       "      <th>Company</th>\n",
       "      <th>Valuation</th>\n",
       "      <th>Date Joined</th>\n",
       "      <th>Month Joined</th>\n",
       "      <th>Years To Join</th>\n",
       "      <th>Industry</th>\n",
       "      <th>City</th>\n",
       "      <th>Country/Region</th>\n",
       "      <th>Continent</th>\n",
       "      <th>Year Founded</th>\n",
       "      <th>Funding</th>\n",
       "      <th>Select Investors</th>\n",
       "    </tr>\n",
       "  </thead>\n",
       "  <tbody>\n",
       "    <tr>\n",
       "      <th>22</th>\n",
       "      <td>Genki Forest</td>\n",
       "      <td>$15B</td>\n",
       "      <td>2020-03-01</td>\n",
       "      <td>March</td>\n",
       "      <td>4</td>\n",
       "      <td>Consumer &amp; retail</td>\n",
       "      <td>Beijing</td>\n",
       "      <td>China</td>\n",
       "      <td>Asia</td>\n",
       "      <td>2016</td>\n",
       "      <td>$721M</td>\n",
       "      <td>Sequoia Capital China, Longfor Capitalm, Gaoro...</td>\n",
       "    </tr>\n",
       "    <tr>\n",
       "      <th>23</th>\n",
       "      <td>goPuff</td>\n",
       "      <td>$15B</td>\n",
       "      <td>2020-10-08</td>\n",
       "      <td>October</td>\n",
       "      <td>7</td>\n",
       "      <td>E-commerce &amp; direct-to-consumer</td>\n",
       "      <td>Philadelphia</td>\n",
       "      <td>United States</td>\n",
       "      <td>North America</td>\n",
       "      <td>2013</td>\n",
       "      <td>$3B</td>\n",
       "      <td>Accel, Softbank Group, Anthos Capital</td>\n",
       "    </tr>\n",
       "    <tr>\n",
       "      <th>38</th>\n",
       "      <td>Xingsheng Selected</td>\n",
       "      <td>$12B</td>\n",
       "      <td>2020-07-22</td>\n",
       "      <td>July</td>\n",
       "      <td>11</td>\n",
       "      <td>E-commerce &amp; direct-to-consumer</td>\n",
       "      <td>Changsha</td>\n",
       "      <td>China</td>\n",
       "      <td>Asia</td>\n",
       "      <td>2009</td>\n",
       "      <td>$5B</td>\n",
       "      <td>KKR, Tencent Holdings, Sequoia Capital China</td>\n",
       "    </tr>\n",
       "    <tr>\n",
       "      <th>54</th>\n",
       "      <td>Figma</td>\n",
       "      <td>$10B</td>\n",
       "      <td>2020-04-30</td>\n",
       "      <td>April</td>\n",
       "      <td>8</td>\n",
       "      <td>Internet software &amp; services</td>\n",
       "      <td>San Francisco</td>\n",
       "      <td>United States</td>\n",
       "      <td>North America</td>\n",
       "      <td>2012</td>\n",
       "      <td>$333M</td>\n",
       "      <td>Index Ventures, Greylock Partners, Kleiner Per...</td>\n",
       "    </tr>\n",
       "    <tr>\n",
       "      <th>57</th>\n",
       "      <td>Notion Labs</td>\n",
       "      <td>$10B</td>\n",
       "      <td>2020-04-01</td>\n",
       "      <td>April</td>\n",
       "      <td>4</td>\n",
       "      <td>Internet software &amp; services</td>\n",
       "      <td>San Francisco</td>\n",
       "      <td>United States</td>\n",
       "      <td>North America</td>\n",
       "      <td>2016</td>\n",
       "      <td>$343M</td>\n",
       "      <td>Index Ventures, Draft Ventures, Felicis Ventures</td>\n",
       "    </tr>\n",
       "  </tbody>\n",
       "</table>\n",
       "</div>"
      ],
      "text/plain": [
       "               Company Valuation Date Joined Month Joined  Years To Join  \\\n",
       "22        Genki Forest      $15B  2020-03-01        March              4   \n",
       "23              goPuff      $15B  2020-10-08      October              7   \n",
       "38  Xingsheng Selected      $12B  2020-07-22         July             11   \n",
       "54               Figma      $10B  2020-04-30        April              8   \n",
       "57         Notion Labs      $10B  2020-04-01        April              4   \n",
       "\n",
       "                           Industry           City Country/Region  \\\n",
       "22                Consumer & retail        Beijing          China   \n",
       "23  E-commerce & direct-to-consumer   Philadelphia  United States   \n",
       "38  E-commerce & direct-to-consumer       Changsha          China   \n",
       "54     Internet software & services  San Francisco  United States   \n",
       "57     Internet software & services  San Francisco  United States   \n",
       "\n",
       "        Continent  Year Founded Funding  \\\n",
       "22           Asia          2016   $721M   \n",
       "23  North America          2013     $3B   \n",
       "38           Asia          2009     $5B   \n",
       "54  North America          2012   $333M   \n",
       "57  North America          2016   $343M   \n",
       "\n",
       "                                     Select Investors  \n",
       "22  Sequoia Capital China, Longfor Capitalm, Gaoro...  \n",
       "23              Accel, Softbank Group, Anthos Capital  \n",
       "38       KKR, Tencent Holdings, Sequoia Capital China  \n",
       "54  Index Ventures, Greylock Partners, Kleiner Per...  \n",
       "57   Index Ventures, Draft Ventures, Felicis Ventures  "
      ]
     },
     "execution_count": 17,
     "metadata": {},
     "output_type": "execute_result"
    }
   ],
   "source": [
    "twenty_twenty = companies[companies['Date Joined'].dt.year == 2020]\n",
    "\n",
    "twenty_twenty.head()"
   ]
  },
  {
   "cell_type": "markdown",
   "id": "b07a3271",
   "metadata": {
    "id": "xMeC4PjILkAP"
   },
   "source": [
    "Implemented the structuring approach (based on weekly intervals) to observe trends over time in the companies that became unicorns for the year 2020. \n",
    "\n",
    "For that purpose, inserted a column that contains the time interval - \"Week Joined\" - that each data point belongs to, then grouped that time interval and aggregated by counting companies that joined per each interval of year 2020, assigning the result to a new variable."
   ]
  },
  {
   "cell_type": "code",
   "execution_count": 18,
   "id": "9d530109",
   "metadata": {
    "id": "RTPw3cRqPUI3"
   },
   "outputs": [
    {
     "data": {
      "text/html": [
       "<div>\n",
       "<style scoped>\n",
       "    .dataframe tbody tr th:only-of-type {\n",
       "        vertical-align: middle;\n",
       "    }\n",
       "\n",
       "    .dataframe tbody tr th {\n",
       "        vertical-align: top;\n",
       "    }\n",
       "\n",
       "    .dataframe thead th {\n",
       "        text-align: right;\n",
       "    }\n",
       "</style>\n",
       "<table border=\"1\" class=\"dataframe\">\n",
       "  <thead>\n",
       "    <tr style=\"text-align: right;\">\n",
       "      <th></th>\n",
       "      <th>Week Joined</th>\n",
       "      <th>Number of Unicorns</th>\n",
       "    </tr>\n",
       "  </thead>\n",
       "  <tbody>\n",
       "    <tr>\n",
       "      <th>0</th>\n",
       "      <td>2020-W00</td>\n",
       "      <td>1</td>\n",
       "    </tr>\n",
       "    <tr>\n",
       "      <th>1</th>\n",
       "      <td>2020-W01</td>\n",
       "      <td>2</td>\n",
       "    </tr>\n",
       "    <tr>\n",
       "      <th>2</th>\n",
       "      <td>2020-W03</td>\n",
       "      <td>3</td>\n",
       "    </tr>\n",
       "    <tr>\n",
       "      <th>3</th>\n",
       "      <td>2020-W04</td>\n",
       "      <td>4</td>\n",
       "    </tr>\n",
       "    <tr>\n",
       "      <th>4</th>\n",
       "      <td>2020-W05</td>\n",
       "      <td>1</td>\n",
       "    </tr>\n",
       "    <tr>\n",
       "      <th>5</th>\n",
       "      <td>2020-W06</td>\n",
       "      <td>2</td>\n",
       "    </tr>\n",
       "    <tr>\n",
       "      <th>6</th>\n",
       "      <td>2020-W09</td>\n",
       "      <td>2</td>\n",
       "    </tr>\n",
       "    <tr>\n",
       "      <th>7</th>\n",
       "      <td>2020-W10</td>\n",
       "      <td>1</td>\n",
       "    </tr>\n",
       "    <tr>\n",
       "      <th>8</th>\n",
       "      <td>2020-W11</td>\n",
       "      <td>1</td>\n",
       "    </tr>\n",
       "    <tr>\n",
       "      <th>9</th>\n",
       "      <td>2020-W13</td>\n",
       "      <td>2</td>\n",
       "    </tr>\n",
       "  </tbody>\n",
       "</table>\n",
       "</div>"
      ],
      "text/plain": [
       "  Week Joined  Number of Unicorns\n",
       "0    2020-W00                   1\n",
       "1    2020-W01                   2\n",
       "2    2020-W03                   3\n",
       "3    2020-W04                   4\n",
       "4    2020-W05                   1\n",
       "5    2020-W06                   2\n",
       "6    2020-W09                   2\n",
       "7    2020-W10                   1\n",
       "8    2020-W11                   1\n",
       "9    2020-W13                   2"
      ]
     },
     "execution_count": 18,
     "metadata": {},
     "output_type": "execute_result"
    }
   ],
   "source": [
    "twenty_twenty.insert(loc = 4, column = 'Week Joined', \n",
    "                     value = twenty_twenty['Date Joined'].dt.strftime('%Y-W%U'))\n",
    "\n",
    "weeks2020 = twenty_twenty.groupby('Week Joined').size().reset_index()\n",
    "weeks2020.columns = ['Week Joined', 'Number of Unicorns']\n",
    "\n",
    "weeks2020.head(10)"
   ]
  },
  {
   "cell_type": "markdown",
   "id": "a343eb16",
   "metadata": {},
   "source": [
    "Using the resulted subset of companies joined in the year 2020, grouped by the time interval of one week, created a bar plot to visualize the number of companies that joined per every week of 2020."
   ]
  },
  {
   "cell_type": "code",
   "execution_count": 157,
   "id": "b346594c",
   "metadata": {},
   "outputs": [
    {
     "data": {
      "image/png": "[encoded data removed]",
      "text/plain": [
       "<Figure size 1000x600 with 1 Axes>"
      ]
     },
     "metadata": {},
     "output_type": "display_data"
    }
   ],
   "source": [
    "plt.figure(figsize = (10, 6))\n",
    "sns.barplot(x = 'Week Joined', y = 'Number of Unicorns', data = weeks2020, \n",
    "            errorbar=('ci', False))\n",
    "\n",
    "plt.xlabel('Week number')\n",
    "plt.ylabel('Number of companies joined')\n",
    "plt.title('Number of companies that became unicorns per every week of 2020')\n",
    "plt.xticks(rotation = 45, horizontalalignment = 'right', fontsize = 8)\n",
    "plt.show()"
   ]
  },
  {
   "cell_type": "markdown",
   "id": "1a9a2569",
   "metadata": {},
   "source": [
    "**Observations:**\n",
    "\n",
    "The number of newly appeared billion-dollar companies is approximately the same during the first 3 quarters of the year, and in the fourth quarter there is a sharp increase, which interestingly complements the global (annual) trend discussed in task 2, which showed that companies that joined in the last months of the year spent less years on average to reach the unicorn status."
   ]
  },
  {
   "cell_type": "markdown",
   "id": "bafa579e",
   "metadata": {
    "id": "5vGITCLaA7lC"
   },
   "source": [
    "### Task 5 · Compare the average valuation of companies that became unicorns in the years 2020 vs 2021\n",
    "\n",
    "Identified the quarter as an interval of interest and created a subset that consists of companies that joined in that years 2020 and 2021."
   ]
  },
  {
   "cell_type": "code",
   "execution_count": 19,
   "id": "f13a2c55",
   "metadata": {},
   "outputs": [],
   "source": [
    "years_2020_and_2021 = companies[(companies['Date Joined'].dt.year == 2020)\n",
    "| (companies['Date Joined'].dt.year == 2021)].copy()"
   ]
  },
  {
   "cell_type": "markdown",
   "id": "78516893",
   "metadata": {},
   "source": [
    "Added a column that contains the time interval (quarter) that each data point belongs to. In addition, transform the 'Valuation' column to represent its data in numerical way suitable for visualization."
   ]
  },
  {
   "cell_type": "code",
   "execution_count": 20,
   "id": "940edd58",
   "metadata": {
    "id": "pQ3sXSbaA7lD"
   },
   "outputs": [
    {
     "data": {
      "text/html": [
       "<div>\n",
       "<style scoped>\n",
       "    .dataframe tbody tr th:only-of-type {\n",
       "        vertical-align: middle;\n",
       "    }\n",
       "\n",
       "    .dataframe tbody tr th {\n",
       "        vertical-align: top;\n",
       "    }\n",
       "\n",
       "    .dataframe thead th {\n",
       "        text-align: right;\n",
       "    }\n",
       "</style>\n",
       "<table border=\"1\" class=\"dataframe\">\n",
       "  <thead>\n",
       "    <tr style=\"text-align: right;\">\n",
       "      <th></th>\n",
       "      <th>Company</th>\n",
       "      <th>Valuation</th>\n",
       "      <th>Date Joined</th>\n",
       "      <th>Quarter Joined</th>\n",
       "      <th>Month Joined</th>\n",
       "      <th>Years To Join</th>\n",
       "      <th>Industry</th>\n",
       "      <th>City</th>\n",
       "      <th>Country/Region</th>\n",
       "      <th>Continent</th>\n",
       "      <th>Year Founded</th>\n",
       "      <th>Funding</th>\n",
       "      <th>Select Investors</th>\n",
       "    </tr>\n",
       "  </thead>\n",
       "  <tbody>\n",
       "    <tr>\n",
       "      <th>12</th>\n",
       "      <td>FTX</td>\n",
       "      <td>32.0</td>\n",
       "      <td>2021-07-20</td>\n",
       "      <td>2021-Q3</td>\n",
       "      <td>July</td>\n",
       "      <td>3</td>\n",
       "      <td>Fintech</td>\n",
       "      <td>NaN</td>\n",
       "      <td>Bahamas</td>\n",
       "      <td>North America</td>\n",
       "      <td>2018</td>\n",
       "      <td>$2B</td>\n",
       "      <td>Sequoia Capital, Thoma Bravo, Softbank</td>\n",
       "    </tr>\n",
       "    <tr>\n",
       "      <th>16</th>\n",
       "      <td>J&amp;T Express</td>\n",
       "      <td>20.0</td>\n",
       "      <td>2021-04-07</td>\n",
       "      <td>2021-Q2</td>\n",
       "      <td>April</td>\n",
       "      <td>6</td>\n",
       "      <td>Supply chain, logistics, &amp; delivery</td>\n",
       "      <td>Jakarta</td>\n",
       "      <td>Indonesia</td>\n",
       "      <td>Asia</td>\n",
       "      <td>2015</td>\n",
       "      <td>$5B</td>\n",
       "      <td>Hillhouse Capital Management, Boyu Capital, Se...</td>\n",
       "    </tr>\n",
       "    <tr>\n",
       "      <th>22</th>\n",
       "      <td>Genki Forest</td>\n",
       "      <td>15.0</td>\n",
       "      <td>2020-03-01</td>\n",
       "      <td>2020-Q1</td>\n",
       "      <td>March</td>\n",
       "      <td>4</td>\n",
       "      <td>Consumer &amp; retail</td>\n",
       "      <td>Beijing</td>\n",
       "      <td>China</td>\n",
       "      <td>Asia</td>\n",
       "      <td>2016</td>\n",
       "      <td>$721M</td>\n",
       "      <td>Sequoia Capital China, Longfor Capitalm, Gaoro...</td>\n",
       "    </tr>\n",
       "    <tr>\n",
       "      <th>23</th>\n",
       "      <td>goPuff</td>\n",
       "      <td>15.0</td>\n",
       "      <td>2020-10-08</td>\n",
       "      <td>2020-Q4</td>\n",
       "      <td>October</td>\n",
       "      <td>7</td>\n",
       "      <td>E-commerce &amp; direct-to-consumer</td>\n",
       "      <td>Philadelphia</td>\n",
       "      <td>United States</td>\n",
       "      <td>North America</td>\n",
       "      <td>2013</td>\n",
       "      <td>$3B</td>\n",
       "      <td>Accel, Softbank Group, Anthos Capital</td>\n",
       "    </tr>\n",
       "    <tr>\n",
       "      <th>24</th>\n",
       "      <td>Blockchain.com</td>\n",
       "      <td>14.0</td>\n",
       "      <td>2021-02-17</td>\n",
       "      <td>2021-Q1</td>\n",
       "      <td>February</td>\n",
       "      <td>10</td>\n",
       "      <td>Fintech</td>\n",
       "      <td>London</td>\n",
       "      <td>United Kingdom</td>\n",
       "      <td>Europe</td>\n",
       "      <td>2011</td>\n",
       "      <td>$490M</td>\n",
       "      <td>Lightspeed Venture Partners, Google Ventures, ...</td>\n",
       "    </tr>\n",
       "  </tbody>\n",
       "</table>\n",
       "</div>"
      ],
      "text/plain": [
       "           Company  Valuation Date Joined Quarter Joined Month Joined  \\\n",
       "12             FTX       32.0  2021-07-20        2021-Q3         July   \n",
       "16     J&T Express       20.0  2021-04-07        2021-Q2        April   \n",
       "22    Genki Forest       15.0  2020-03-01        2020-Q1        March   \n",
       "23          goPuff       15.0  2020-10-08        2020-Q4      October   \n",
       "24  Blockchain.com       14.0  2021-02-17        2021-Q1     February   \n",
       "\n",
       "    Years To Join                             Industry          City  \\\n",
       "12              3                              Fintech           NaN   \n",
       "16              6  Supply chain, logistics, & delivery       Jakarta   \n",
       "22              4                    Consumer & retail       Beijing   \n",
       "23              7      E-commerce & direct-to-consumer  Philadelphia   \n",
       "24             10                              Fintech        London   \n",
       "\n",
       "    Country/Region      Continent  Year Founded Funding  \\\n",
       "12         Bahamas  North America          2018     $2B   \n",
       "16       Indonesia           Asia          2015     $5B   \n",
       "22           China           Asia          2016   $721M   \n",
       "23   United States  North America          2013     $3B   \n",
       "24  United Kingdom         Europe          2011   $490M   \n",
       "\n",
       "                                     Select Investors  \n",
       "12             Sequoia Capital, Thoma Bravo, Softbank  \n",
       "16  Hillhouse Capital Management, Boyu Capital, Se...  \n",
       "22  Sequoia Capital China, Longfor Capitalm, Gaoro...  \n",
       "23              Accel, Softbank Group, Anthos Capital  \n",
       "24  Lightspeed Venture Partners, Google Ventures, ...  "
      ]
     },
     "execution_count": 20,
     "metadata": {},
     "output_type": "execute_result"
    }
   ],
   "source": [
    "years_2020_and_2021.insert(loc = 3, column = 'Quarter Joined', \n",
    "value = years_2020_and_2021['Date Joined'].dt.to_period('Q').dt.strftime('%Y-Q%q'))\n",
    "\n",
    "val_column = years_2020_and_2021['Valuation'].str.strip(\"$B\").astype(float)\n",
    "\n",
    "years_2020_and_2021.drop(columns = 'Valuation', inplace = True)\n",
    "years_2020_and_2021.insert(loc = 1, column = 'Valuation', value = val_column)\n",
    "\n",
    "years_2020_and_2021.head()"
   ]
  },
  {
   "cell_type": "markdown",
   "id": "3ccc746f",
   "metadata": {},
   "source": [
    "Filtered the data by qurter joined and aggregated by average valuation of companies joined in every quarter."
   ]
  },
  {
   "cell_type": "code",
   "execution_count": 21,
   "id": "10faec76",
   "metadata": {},
   "outputs": [
    {
     "data": {
      "text/html": [
       "<div>\n",
       "<style scoped>\n",
       "    .dataframe tbody tr th:only-of-type {\n",
       "        vertical-align: middle;\n",
       "    }\n",
       "\n",
       "    .dataframe tbody tr th {\n",
       "        vertical-align: top;\n",
       "    }\n",
       "\n",
       "    .dataframe thead th {\n",
       "        text-align: right;\n",
       "    }\n",
       "</style>\n",
       "<table border=\"1\" class=\"dataframe\">\n",
       "  <thead>\n",
       "    <tr style=\"text-align: right;\">\n",
       "      <th></th>\n",
       "      <th>Quarter Joined</th>\n",
       "      <th>AVG Valuation</th>\n",
       "    </tr>\n",
       "  </thead>\n",
       "  <tbody>\n",
       "    <tr>\n",
       "      <th>0</th>\n",
       "      <td>2020-Q1</td>\n",
       "      <td>3.444444</td>\n",
       "    </tr>\n",
       "    <tr>\n",
       "      <th>1</th>\n",
       "      <td>2020-Q2</td>\n",
       "      <td>3.777778</td>\n",
       "    </tr>\n",
       "    <tr>\n",
       "      <th>2</th>\n",
       "      <td>2020-Q3</td>\n",
       "      <td>3.896552</td>\n",
       "    </tr>\n",
       "    <tr>\n",
       "      <th>3</th>\n",
       "      <td>2020-Q4</td>\n",
       "      <td>3.697674</td>\n",
       "    </tr>\n",
       "    <tr>\n",
       "      <th>4</th>\n",
       "      <td>2021-Q1</td>\n",
       "      <td>2.750000</td>\n",
       "    </tr>\n",
       "    <tr>\n",
       "      <th>5</th>\n",
       "      <td>2021-Q2</td>\n",
       "      <td>2.340278</td>\n",
       "    </tr>\n",
       "    <tr>\n",
       "      <th>6</th>\n",
       "      <td>2021-Q3</td>\n",
       "      <td>2.291045</td>\n",
       "    </tr>\n",
       "    <tr>\n",
       "      <th>7</th>\n",
       "      <td>2021-Q4</td>\n",
       "      <td>1.850746</td>\n",
       "    </tr>\n",
       "  </tbody>\n",
       "</table>\n",
       "</div>"
      ],
      "text/plain": [
       "  Quarter Joined  AVG Valuation\n",
       "0        2020-Q1       3.444444\n",
       "1        2020-Q2       3.777778\n",
       "2        2020-Q3       3.896552\n",
       "3        2020-Q4       3.697674\n",
       "4        2021-Q1       2.750000\n",
       "5        2021-Q2       2.340278\n",
       "6        2021-Q3       2.291045\n",
       "7        2021-Q4       1.850746"
      ]
     },
     "execution_count": 21,
     "metadata": {},
     "output_type": "execute_result"
    }
   ],
   "source": [
    "companies_by_quarter_2020_2021 = years_2020_and_2021.groupby('Quarter Joined')[['Valuation']].mean().reset_index()\n",
    "companies_by_quarter_2020_2021.rename(columns={'Valuation' : 'AVG Valuation'}, \n",
    "                                      inplace = True)\n",
    "\n",
    "companies_by_quarter_2020_2021"
   ]
  },
  {
   "cell_type": "markdown",
   "id": "18fb2d92",
   "metadata": {},
   "source": [
    "Extracted the year component and the time interval (quarter), saving them in two new columns added into the subset."
   ]
  },
  {
   "cell_type": "code",
   "execution_count": 171,
   "id": "103cfd0b",
   "metadata": {},
   "outputs": [
    {
     "data": {
      "text/html": [
       "<div>\n",
       "<style scoped>\n",
       "    .dataframe tbody tr th:only-of-type {\n",
       "        vertical-align: middle;\n",
       "    }\n",
       "\n",
       "    .dataframe tbody tr th {\n",
       "        vertical-align: top;\n",
       "    }\n",
       "\n",
       "    .dataframe thead th {\n",
       "        text-align: right;\n",
       "    }\n",
       "</style>\n",
       "<table border=\"1\" class=\"dataframe\">\n",
       "  <thead>\n",
       "    <tr style=\"text-align: right;\">\n",
       "      <th></th>\n",
       "      <th>Quarter Joined</th>\n",
       "      <th>AVG Valuation</th>\n",
       "      <th>Q</th>\n",
       "      <th>Year</th>\n",
       "    </tr>\n",
       "  </thead>\n",
       "  <tbody>\n",
       "    <tr>\n",
       "      <th>0</th>\n",
       "      <td>2020-Q1</td>\n",
       "      <td>3.444444</td>\n",
       "      <td>Q1</td>\n",
       "      <td>2020</td>\n",
       "    </tr>\n",
       "    <tr>\n",
       "      <th>1</th>\n",
       "      <td>2020-Q2</td>\n",
       "      <td>3.777778</td>\n",
       "      <td>Q2</td>\n",
       "      <td>2020</td>\n",
       "    </tr>\n",
       "    <tr>\n",
       "      <th>2</th>\n",
       "      <td>2020-Q3</td>\n",
       "      <td>3.896552</td>\n",
       "      <td>Q3</td>\n",
       "      <td>2020</td>\n",
       "    </tr>\n",
       "    <tr>\n",
       "      <th>3</th>\n",
       "      <td>2020-Q4</td>\n",
       "      <td>3.697674</td>\n",
       "      <td>Q4</td>\n",
       "      <td>2020</td>\n",
       "    </tr>\n",
       "    <tr>\n",
       "      <th>4</th>\n",
       "      <td>2021-Q1</td>\n",
       "      <td>2.750000</td>\n",
       "      <td>Q1</td>\n",
       "      <td>2021</td>\n",
       "    </tr>\n",
       "    <tr>\n",
       "      <th>5</th>\n",
       "      <td>2021-Q2</td>\n",
       "      <td>2.340278</td>\n",
       "      <td>Q2</td>\n",
       "      <td>2021</td>\n",
       "    </tr>\n",
       "    <tr>\n",
       "      <th>6</th>\n",
       "      <td>2021-Q3</td>\n",
       "      <td>2.291045</td>\n",
       "      <td>Q3</td>\n",
       "      <td>2021</td>\n",
       "    </tr>\n",
       "    <tr>\n",
       "      <th>7</th>\n",
       "      <td>2021-Q4</td>\n",
       "      <td>1.850746</td>\n",
       "      <td>Q4</td>\n",
       "      <td>2021</td>\n",
       "    </tr>\n",
       "  </tbody>\n",
       "</table>\n",
       "</div>"
      ],
      "text/plain": [
       "  Quarter Joined  AVG Valuation   Q  Year\n",
       "0        2020-Q1       3.444444  Q1  2020\n",
       "1        2020-Q2       3.777778  Q2  2020\n",
       "2        2020-Q3       3.896552  Q3  2020\n",
       "3        2020-Q4       3.697674  Q4  2020\n",
       "4        2021-Q1       2.750000  Q1  2021\n",
       "5        2021-Q2       2.340278  Q2  2021\n",
       "6        2021-Q3       2.291045  Q3  2021\n",
       "7        2021-Q4       1.850746  Q4  2021"
      ]
     },
     "execution_count": 171,
     "metadata": {},
     "output_type": "execute_result"
    }
   ],
   "source": [
    "companies_by_quarter_2020_2021['Q'] = companies_by_quarter_2020_2021['Quarter Joined'].str.replace('2020-','')\n",
    "companies_by_quarter_2020_2021['Q'] = companies_by_quarter_2020_2021['Q'].str.replace('2021-','')\n",
    "\n",
    "companies_by_quarter_2020_2021['Year'] = companies_by_quarter_2020_2021['Quarter Joined'].str.replace('-Q1','')\n",
    "companies_by_quarter_2020_2021['Year'] = companies_by_quarter_2020_2021['Year'].str.replace('-Q2','')\n",
    "companies_by_quarter_2020_2021['Year'] = companies_by_quarter_2020_2021['Year'].str.replace('-Q3','')\n",
    "companies_by_quarter_2020_2021['Year'] = companies_by_quarter_2020_2021['Year'].str.replace('-Q4','')\n",
    "\n",
    "companies_by_quarter_2020_2021"
   ]
  },
  {
   "cell_type": "markdown",
   "id": "aa04beed",
   "metadata": {
    "id": "izcgBCbZhC4w"
   },
   "source": [
    "Using the resulted subset, created a grouped bar plot to visualize the average valuation over the quarters, with two bars for each time interval - one for year 2020 and another for year 2021."
   ]
  },
  {
   "cell_type": "code",
   "execution_count": 174,
   "id": "725f262f",
   "metadata": {
    "id": "IC1cFf2ci6Q6"
   },
   "outputs": [
    {
     "data": {
      "image/png": "[encoded data removed]",
      "text/plain": [
       "<Figure size 1000x600 with 1 Axes>"
      ]
     },
     "metadata": {},
     "output_type": "display_data"
    }
   ],
   "source": [
    "plt.figure(figsize = (10, 6))\n",
    "sns.barplot(x = 'Q', y = 'AVG Valuation', hue = 'Year', data = companies_by_quarter_2020_2021,\n",
    "            errorbar=('ci', False))\n",
    "\n",
    "plt.xlabel(\"Quarter\")\n",
    "plt.ylabel(\"Average valuation (billions of dollars)\")\n",
    "plt.title(\"Average valuation of companies that became unicorns per quarter in 2020 vs 2021\")\n",
    "plt.show()"
   ]
  },
  {
   "cell_type": "markdown",
   "id": "712471e0",
   "metadata": {},
   "source": [
    "**Observations:**\n",
    "\n",
    "- In each quarter, the average valuation of companies that joined unicorn status was higher in 2020 than in 2021\n",
    "- In 2020, Q3 was the quarter with the highest average valuation of companies that reached unicorn status, and in general there was an apparent trend of increase from Q1 to Q2 and from Q2 to Q3 within the year 2020\n",
    "- In 2021, Q1 was the quarter with the highest average valuation of companies that reached unicorn status, and there was an apparent trend of decrease across all the quarters of 2021"
   ]
  },
  {
   "cell_type": "markdown",
   "id": "c325ed56",
   "metadata": {
    "id": "c77e7f0f-d2b9-4464-8a7c-9575d1e1ef9f"
   },
   "source": [
    "### Findings and conclusions"
   ]
  },
  {
   "cell_type": "markdown",
   "id": "da8b396b",
   "metadata": {},
   "source": [
    "- According to data analysis that was conducted on a dataset of 1074 unicorns, companies that joined in the months of September and October tended to take less time to become unicorns\n",
    "- 2015 is the year when the most number of unicorn companies were founded\n",
    "- The in-depth exploration within the year 2020 showed that the number of new billion-dollar companies remains roughly the same during the first three quarters of the year and then sharply increases in the fourth quarter, which interestingly resonates with the global trend (discussed in task 2), according to which the companies joined in the last months of each year spent less years on average to obtain the unicorn status, whereinto this seasonal spike might be due to several factors, such as end-of-year financial reporting or increased investment activities\n",
    "- Many of the unicorn companies that were founded in 2021 - were founded in the United States and belong to \"Fintech\", \"E-commerce & direct-to-consumer\" and \"Internet software & services\" industries\n",
    "- The average valuation of companies that joined in 2021 is highest in the first quarter of the year, and the average valuation of companies that joined in 2020 is highest in the third quarter of the year\n",
    "- The data can be analyzed further to gather more insights that are specific to the interests of the investing firm and the stakeholders"
   ]
  },
  {
   "cell_type": "markdown",
   "id": "b72aa646",
   "metadata": {},
   "source": [
    "### Acknowledgment ###\n",
    "\n",
    "This is a lab based on workplace scenario proposed within the syllabus of *Google Advanced Data Analytics Professional Certificate* on Coursera.\n",
    "\n",
    "I would like to express gratitude to Google and Coursera for supporting the educational process and providing the opportunity to refine and showcase skills acquired during the courses by completing real-life scenario portfolio projects, such as this."
   ]
  },
  {
   "cell_type": "markdown",
   "id": "6602d217",
   "metadata": {},
   "source": [
    "### Data References ###\n",
    "\n",
    "Bhat, M.A. (2022, March). [*Unicorn Companies*](https://www.kaggle.com/datasets/mysarahmadbhat/unicorn-companies)."
   ]
  }
 ],
 "metadata": {
  "colab": {
   "collapsed_sections": [],
   "provenance": [
    {
     "file_id": "15yNL9B__b83dWYp4FcjSPvb_EInqHS4J",
     "timestamp": 1660007760492
    }
   ]
  },
  "kernelspec": {
   "display_name": "Python 3 (ipykernel)",
   "language": "python",
   "name": "python3"
  },
  "language_info": {
   "codemirror_mode": {
    "name": "ipython",
    "version": 3
   },
   "file_extension": ".py",
   "mimetype": "text/x-python",
   "name": "python",
   "nbconvert_exporter": "python",
   "pygments_lexer": "ipython3",
   "version": "3.11.5"
  },
  "toc-autonumbering": false,
  "toc-showtags": false
 },
 "nbformat": 4,
 "nbformat_minor": 5
}
